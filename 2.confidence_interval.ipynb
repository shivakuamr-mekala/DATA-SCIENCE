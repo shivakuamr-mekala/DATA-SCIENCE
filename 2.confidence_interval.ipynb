{
 "cells": [
  {
   "cell_type": "markdown",
   "id": "5b52a95f-029e-4595-b34c-9614f2994153",
   "metadata": {},
   "source": [
    "# Building 99% Confidence Interval Using Sample Standard Deviation\n",
    "* given sample size n = 15\n",
    "* confidencelevel = 0.99\n",
    "* here we don't have information of population standard diveation so we go for t-distribution"
   ]
  },
  {
   "cell_type": "code",
   "execution_count": 8,
   "id": "dc9eca5a-7e3f-4aca-b8e3-a42bbbd32eba",
   "metadata": {
    "tags": []
   },
   "outputs": [],
   "source": [
    "import numpy as np\n",
    "import scipy.stats as st"
   ]
  },
  {
   "cell_type": "code",
   "execution_count": 10,
   "id": "1846dfb1-b197-4e63-a6ca-8dbbc1da0192",
   "metadata": {
    "tags": []
   },
   "outputs": [],
   "source": [
    "data = [1.13, 1.55, 1.43, 0.92, 1.25, 1.36, 1.32, 0.85, 1.07, 1.48, 1.20, 1.33, 1.18, 1.22, 1.29]"
   ]
  },
  {
   "cell_type": "code",
   "execution_count": 13,
   "id": "d8691a7f-fd53-4bb3-b9f3-e2b084365a1a",
   "metadata": {
    "tags": []
   },
   "outputs": [],
   "source": [
    "interval = st.t.interval(confidence=0.99,df=len(data)-1,loc=np.mean(data),scale=st.sem(data))"
   ]
  },
  {
   "cell_type": "code",
   "execution_count": 15,
   "id": "5fb828c3-b7d5-4fa1-b19f-ef3fadc9885e",
   "metadata": {
    "tags": []
   },
   "outputs": [
    {
     "data": {
      "text/plain": [
       "array([1.09, 1.39])"
      ]
     },
     "execution_count": 15,
     "metadata": {},
     "output_type": "execute_result"
    }
   ],
   "source": [
    "np.round(interval,2)"
   ]
  },
  {
   "cell_type": "markdown",
   "id": "513f26ab-cd7e-4db2-86e8-35faaa5b2963",
   "metadata": {},
   "source": [
    "# conclusion\n",
    "* with 99% confidence A manufacturer of print-heads for personal computers can claim The durability of each print-head (in millions of characters) lies in range [1.09, 1.39] according to t-distribution"
   ]
  },
  {
   "cell_type": "markdown",
   "id": "ca0f404c-03dc-4c13-8f4f-5ae8807c2917",
   "metadata": {},
   "source": [
    "# Building 99% Confidence Interval Using Known Population Standard Deviation\n",
    "* given population standard diveation= 0.2 million charecters\n",
    "* here we know population standard diveation so we use z-distribution"
   ]
  },
  {
   "cell_type": "code",
   "execution_count": 16,
   "id": "e2a41b12-ef24-43b8-8227-9731d4947fa8",
   "metadata": {
    "tags": []
   },
   "outputs": [],
   "source": [
    "data = [1.13, 1.55, 1.43, 0.92, 1.25, 1.36, 1.32, 0.85, 1.07, 1.48, 1.20, 1.33, 1.18, 1.22, 1.29]"
   ]
  },
  {
   "cell_type": "code",
   "execution_count": 17,
   "id": "f1bc0a69-e649-46db-9851-f6bc27d87e82",
   "metadata": {
    "tags": []
   },
   "outputs": [],
   "source": [
    "n=15\n",
    "std =0.2"
   ]
  },
  {
   "cell_type": "code",
   "execution_count": 19,
   "id": "c7ac8fcf-a6d7-413f-9228-2c3b73d58a7b",
   "metadata": {
    "tags": []
   },
   "outputs": [
    {
     "data": {
      "text/plain": [
       "(1.1056514133957607, 1.3716819199375725)"
      ]
     },
     "execution_count": 19,
     "metadata": {},
     "output_type": "execute_result"
    }
   ],
   "source": [
    "interval = st.norm.interval(confidence=0.99,loc=np.mean(data),scale=std/np.sqrt(n))"
   ]
  },
  {
   "cell_type": "code",
   "execution_count": 20,
   "id": "5d58d62f-c6cb-4d73-8e4b-26b528e70d8d",
   "metadata": {
    "tags": []
   },
   "outputs": [
    {
     "data": {
      "text/plain": [
       "array([1.11, 1.37])"
      ]
     },
     "execution_count": 20,
     "metadata": {},
     "output_type": "execute_result"
    }
   ],
   "source": [
    "np.round(interval,2)"
   ]
  },
  {
   "cell_type": "markdown",
   "id": "3cb676eb-0a04-4872-b662-eb53dea252b4",
   "metadata": {},
   "source": [
    "# conclusion\n",
    "* with 99% confidence A manufacturer of print-heads for personal computers can claim The durability of each print-head (in millions of characters) lies in range [1.11, 1.37] according to z distribution"
   ]
  },
  {
   "cell_type": "code",
   "execution_count": null,
   "id": "92fc5b24-5680-4991-81e6-3a739cd8559a",
   "metadata": {},
   "outputs": [],
   "source": []
  }
 ],
 "metadata": {
  "kernelspec": {
   "display_name": "Python 3 (ipykernel)",
   "language": "python",
   "name": "python3"
  },
  "language_info": {
   "codemirror_mode": {
    "name": "ipython",
    "version": 3
   },
   "file_extension": ".py",
   "mimetype": "text/x-python",
   "name": "python",
   "nbconvert_exporter": "python",
   "pygments_lexer": "ipython3",
   "version": "3.11.5"
  }
 },
 "nbformat": 4,
 "nbformat_minor": 5
}

{
 "cells": [
  {
   "cell_type": "markdown",
   "id": "3a4b0d61-a39b-450a-a2ee-508c43b93dbc",
   "metadata": {},
   "source": [
    "# stating the Hypothesis\n",
    "* null hypothesis = satisfaction proportion across Smart Thermostat and Smart Light are same\n",
    "* alternate hypothesis = satisfaction proportion across Smart Thermostat and Smart Light are not same"
   ]
  },
  {
   "cell_type": "markdown",
   "id": "158ce312-32a2-43f1-9ee8-3d4f0c07e68c",
   "metadata": {},
   "source": [
    "# computing the Chi-Square Statistic:\n",
    "* using the chi2_contingency() "
   ]
  },
  {
   "cell_type": "code",
   "execution_count": 6,
   "id": "3f71c2fc-68a8-4d3d-8092-204419a25fa1",
   "metadata": {
    "tags": []
   },
   "outputs": [
    {
     "data": {
      "text/plain": [
       "array([[ 50,  70],\n",
       "       [ 80, 100],\n",
       "       [ 60,  90],\n",
       "       [ 30,  50],\n",
       "       [ 20,  50]])"
      ]
     },
     "execution_count": 6,
     "metadata": {},
     "output_type": "execute_result"
    }
   ],
   "source": [
    "# as chi2_contingency() accepts data in the below format so impoting numpy library \n",
    "import numpy as np\n",
    "data=np.array([[50,70],[80,100],[60,90],[30,50],[20,50]])\n",
    "data"
   ]
  },
  {
   "cell_type": "code",
   "execution_count": 7,
   "id": "149360c3-9c5c-479e-a0db-8be4676a628e",
   "metadata": {
    "tags": []
   },
   "outputs": [
    {
     "data": {
      "text/plain": [
       "Chi2ContingencyResult(statistic=5.638227513227513, pvalue=0.22784371130697179, dof=4, expected_freq=array([[ 48.,  72.],\n",
       "       [ 72., 108.],\n",
       "       [ 60.,  90.],\n",
       "       [ 32.,  48.],\n",
       "       [ 28.,  42.]]))"
      ]
     },
     "execution_count": 7,
     "metadata": {},
     "output_type": "execute_result"
    }
   ],
   "source": [
    "# importing chi2_contingency() function from scipy.stats\n",
    "from scipy.stats.contingency import chi2_contingency\n",
    "chi2_contingency(data)"
   ]
  },
  {
   "cell_type": "code",
   "execution_count": 9,
   "id": "bf21853f-4e4a-402a-8b12-6025e8273560",
   "metadata": {
    "tags": []
   },
   "outputs": [],
   "source": [
    "# chi2_statistic\n",
    "chi2_statistic = chi2_contingency(data)[0]"
   ]
  },
  {
   "cell_type": "code",
   "execution_count": 10,
   "id": "85f8d3af-8fea-433b-bda6-76cbf6dd80bf",
   "metadata": {
    "tags": []
   },
   "outputs": [],
   "source": [
    "# from chi2 distribution table we find critical value based on significance level(0.05) & degrees of freedom(5-1 = 4)\n",
    "critical_value = 9.48773"
   ]
  },
  {
   "cell_type": "code",
   "execution_count": 11,
   "id": "4b62cf49-a5fd-4601-9cde-ee3710d4dfa9",
   "metadata": {
    "tags": []
   },
   "outputs": [
    {
     "name": "stdout",
     "output_type": "stream",
     "text": [
      "satisfaction proportion across Smart Thermostat and Smart Light are same\n"
     ]
    }
   ],
   "source": [
    "# Making a Decision:\n",
    "if chi2_statistic > critical_value :\n",
    "    print('satisfaction proportion across Smart Thermostat and Smart Light are not same')\n",
    "else:\n",
    "    print('satisfaction proportion across Smart Thermostat and Smart Light are same')"
   ]
  },
  {
   "cell_type": "markdown",
   "id": "d8655de6-f925-4bca-8965-be96974bd140",
   "metadata": {},
   "source": [
    "# conclusion\n",
    "* with 95% confidence we can say that both products gained similar customer satisfaction\n",
    "* Both products Smart Thermostat and Smart Light of Mizzare Corporation have almost similar ratings\n",
    "* that is there is no significance difference in customer satisfaction in these two products"
   ]
  },
  {
   "cell_type": "raw",
   "id": "4a720910-46a6-4f31-bd18-068b95f8ffa0",
   "metadata": {},
   "source": [
    "Checking Correlation Between Two Categorical Variables\n",
    "\n",
    "When dealing with categorical variables, we cannot directly apply correlation coefficients like Pearson's or Spearman's, which are designed for numerical data. Instead, we use statistical tests to assess the relationship between the categories.\n",
    "\n",
    "Common Statistical Tests:\n",
    "\n",
    "Chi-Square Test of Independence:\n",
    "\n",
    "This test determines whether there's a significant association between two categorical variables.\n",
    "A low p-value indicates a strong relationship.\n",
    "Interpretation:\n",
    "A low p-value suggests that the two variables are not independent.\n",
    "A high p-value suggests that the two variables are independent.\n",
    "Cramer's V:\n",
    "\n",
    "This measure calculates the strength of the association between two nominal variables.\n",
    "It ranges from 0 to 1, where 0 indicates no association and 1 indicates a perfect association.1   \n",
    "1.\n",
    "www.numerade.com\n",
    "www.numerade.com\n",
    "Visualizations:\n",
    "\n",
    "Contingency Tables:\n",
    "\n",
    "A contingency table (also known as a cross-tabulation) summarizes the frequency distribution of two categorical variables.\n",
    "By analyzing the cell frequencies, you can visually assess the relationship between the categories.\n",
    "Stacked Bar Charts:\n",
    "\n",
    "This chart can be used to visualize the distribution of one categorical variable across different categories of the other variable.\n",
    "Python Implementation:\n",
    "\n",
    "Python\n",
    "import pandas as pd\n",
    "import scipy.stats as stats\n",
    "\n",
    "# Sample data\n",
    "data = {'Category1': ['A', 'A', 'B', 'B', 'C', 'C'],\n",
    "        'Category2': ['X', 'Y', 'X', 'Y', 'X', 'Y']}\n",
    "df = pd.DataFrame(data)\n",
    "\n",
    "# Chi-Square Test\n",
    "chi2, p_value, dof, expected = stats.chi2_contingency(pd.crosstab(df['Category1'], df['Category2']))\n",
    "print(\"Chi-Square Test:\")\n",
    "print(\"Chi-Square Statistic:\", chi2)\n",
    "print(\"p-value:\", p_value)\n",
    "\n",
    "# Cramer'['Category2'])\n",
    "c, p, dof = contingency.association(table, method='cramer')\n",
    "print(\"Cramer's V:\", c)\n",
    "Use code with caution.\n",
    "\n",
    "Key Considerations:\n",
    "\n",
    "Data Quality: Ensure that the data is clean and free of errors.\n",
    "Sample Size: A sufficient sample size is essential for accurate statistical tests.\n",
    "Interpretation: While statistical tests provide quantitative measures, it's important to interpret the results in the context of the specific domain and business understanding.\n",
    "By combining these statistical tests and visualizations, you can effectively assess the correlation between two categorical variables and gain insights into their relationship."
   ]
  },
  {
   "cell_type": "code",
   "execution_count": null,
   "id": "198b5026-f24f-4342-b9a4-9a39a9b8dfee",
   "metadata": {},
   "outputs": [],
   "source": []
  }
 ],
 "metadata": {
  "kernelspec": {
   "display_name": "Python 3 (ipykernel)",
   "language": "python",
   "name": "python3"
  },
  "language_info": {
   "codemirror_mode": {
    "name": "ipython",
    "version": 3
   },
   "file_extension": ".py",
   "mimetype": "text/x-python",
   "name": "python",
   "nbconvert_exporter": "python",
   "pygments_lexer": "ipython3",
   "version": "3.12.4"
  }
 },
 "nbformat": 4,
 "nbformat_minor": 5
}

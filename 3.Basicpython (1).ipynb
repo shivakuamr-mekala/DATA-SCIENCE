{
 "cells": [
  {
   "cell_type": "markdown",
   "id": "16aa62a5-20af-49ea-9e95-e745462f917f",
   "metadata": {},
   "source": [
    "# Exercise 1: Prime Numbers\n",
    "* Write a Python program that checks whether a given number is prime or not. A prime number is a natural number greater than 1 that has no positive divisors other than 1 and itself."
   ]
  },
  {
   "cell_type": "code",
   "execution_count": 39,
   "id": "521299d6-998b-4156-a5d5-f0d33faa5b82",
   "metadata": {},
   "outputs": [],
   "source": [
    "def prime_number():\n",
    "    a=int(input('Enter number to check for primenumber :'))\n",
    "    if a%2==0 and a%3==0:\n",
    "        return False\n",
    "    else :\n",
    "        return True"
   ]
  },
  {
   "cell_type": "code",
   "execution_count": 40,
   "id": "1fbf9eb3-2b43-44d7-b33b-47b057a933d6",
   "metadata": {},
   "outputs": [
    {
     "name": "stdin",
     "output_type": "stream",
     "text": [
      "Enter number to check for primenumber : 97\n"
     ]
    },
    {
     "data": {
      "text/plain": [
       "True"
      ]
     },
     "execution_count": 40,
     "metadata": {},
     "output_type": "execute_result"
    }
   ],
   "source": [
    "prime_number()"
   ]
  },
  {
   "cell_type": "markdown",
   "id": "5ae4a928-d682-4a82-9973-164cba78ded8",
   "metadata": {},
   "source": [
    "# Exercise 2: Product of Random Numbers\n",
    "* Develop a Python program that generates two random numbers and asks the user to enter the product of these numbers. The program should then check if the user's answer is correct and display an appropriate message"
   ]
  },
  {
   "cell_type": "code",
   "execution_count": 63,
   "id": "590a6666-bfd4-4109-baac-db90e6b9724d",
   "metadata": {},
   "outputs": [],
   "source": [
    "import random\n",
    "def Pr_Rand_Nu():\n",
    "    num1=random.randint(0,100)\n",
    "    num2=random.randint(0,100)\n",
    "    a=int(input(f'Enter the product of {num1} and {num2} :'))\n",
    "    if a == num1*num2:\n",
    "        print(f'You have entered correct product : {a}')\n",
    "    else :\n",
    "        print(f'You have entered wrong product correct answer is : {a}')"
   ]
  },
  {
   "cell_type": "code",
   "execution_count": 65,
   "id": "bb90f34f-124f-4c04-9109-a8c2e5b23dc4",
   "metadata": {},
   "outputs": [
    {
     "name": "stdin",
     "output_type": "stream",
     "text": [
      "Enter the product of 45 and 1 : 45\n"
     ]
    },
    {
     "name": "stdout",
     "output_type": "stream",
     "text": [
      "You have entered correct product : 45\n"
     ]
    }
   ],
   "source": [
    "Pr_Rand_Nu()"
   ]
  },
  {
   "cell_type": "code",
   "execution_count": 57,
   "id": "a915b557-557e-4106-ba07-481df6c600da",
   "metadata": {
    "tags": []
   },
   "outputs": [
    {
     "data": {
      "text/plain": [
       "inf"
      ]
     },
     "execution_count": 57,
     "metadata": {},
     "output_type": "execute_result"
    }
   ],
   "source": [
    "abs(float('inf'))"
   ]
  },
  {
   "cell_type": "markdown",
   "id": "21f3d549-9dfc-4327-bfd6-6604439d46a7",
   "metadata": {},
   "source": [
    "# Exercise 3: Squares of Even/Odd Numbers\n",
    "* Create a Python script that prints the squares of all even or odd numbers within the range of 100 to 200. Choose either even or odd numbers and document your choice in the code."
   ]
  },
  {
   "cell_type": "code",
   "execution_count": 45,
   "id": "99dc37f3-82c8-4fb5-9cec-88bbb5c272fb",
   "metadata": {},
   "outputs": [],
   "source": [
    "def Sq_En_Od_Nu():\n",
    "    a=int(input('Enter starting number:'))\n",
    "    b= int(input('Enter endinging number:'))\n",
    "    even_square=[]\n",
    "    odd_square=[]\n",
    "    prime_square=[]\n",
    "    for i in range(a,b):\n",
    "        if i%2==0:\n",
    "            even_square.append(i**2)\n",
    "        elif i%3==0:\n",
    "            odd_square.append(i**2)\n",
    "        else :\n",
    "            prime_square.append(i**2)\n",
    "    print('Even number squares :',even_square)\n",
    "    print('Odd number squares :',odd_square)\n",
    "    print('Prime number squares :',prime_square)"
   ]
  },
  {
   "cell_type": "code",
   "execution_count": 46,
   "id": "038302c5-34f2-4bc3-b051-83f1760b62ba",
   "metadata": {},
   "outputs": [
    {
     "name": "stdin",
     "output_type": "stream",
     "text": [
      "Enter starting number: 100\n",
      "Enter endinging number: 200\n"
     ]
    },
    {
     "name": "stdout",
     "output_type": "stream",
     "text": [
      "Even number squares : [10000, 10404, 10816, 11236, 11664, 12100, 12544, 12996, 13456, 13924, 14400, 14884, 15376, 15876, 16384, 16900, 17424, 17956, 18496, 19044, 19600, 20164, 20736, 21316, 21904, 22500, 23104, 23716, 24336, 24964, 25600, 26244, 26896, 27556, 28224, 28900, 29584, 30276, 30976, 31684, 32400, 33124, 33856, 34596, 35344, 36100, 36864, 37636, 38416, 39204]\n",
      "Odd number squares : [11025, 12321, 13689, 15129, 16641, 18225, 19881, 21609, 23409, 25281, 27225, 29241, 31329, 33489, 35721, 38025]\n",
      "Prime number squares : [10201, 10609, 11449, 11881, 12769, 13225, 14161, 14641, 15625, 16129, 17161, 17689, 18769, 19321, 20449, 21025, 22201, 22801, 24025, 24649, 25921, 26569, 27889, 28561, 29929, 30625, 32041, 32761, 34225, 34969, 36481, 37249, 38809, 39601]\n"
     ]
    }
   ],
   "source": [
    "Sq_En_Od_Nu()"
   ]
  },
  {
   "cell_type": "markdown",
   "id": "e42bf365-9fde-4cae-abc4-8833d97679f9",
   "metadata": {},
   "source": [
    "# Exercise 4: Word counter\n",
    "* write a program to count the number of words in a given text.\n",
    "* example:\n",
    "* input_text = \"This is a sample text. This text will be used to demonstrate the word counter.\"\n",
    "* Expected output:\n",
    "* 'This': 2 \n",
    "* 'is': 1\n",
    "* 'a': 1\n",
    "* 'sample': 1\n",
    "* 'text.': 1"
   ]
  },
  {
   "cell_type": "code",
   "execution_count": 1,
   "id": "a26ef3dc-93ff-48c5-8d2d-84da2e185d3f",
   "metadata": {},
   "outputs": [],
   "source": [
    "wc={}\n",
    "def word_count(string:str):\n",
    "    word = string.split()\n",
    "    for word in word:\n",
    "        wc[word]=wc.get(word,0)+1\n",
    "    return wc"
   ]
  },
  {
   "cell_type": "code",
   "execution_count": 2,
   "id": "4a5e7945-7f52-4d6b-9857-adc140b8581e",
   "metadata": {},
   "outputs": [
    {
     "data": {
      "text/plain": [
       "{'This': 2,\n",
       " 'is': 1,\n",
       " 'a': 1,\n",
       " 'sample': 1,\n",
       " 'text.': 1,\n",
       " 'text': 1,\n",
       " 'will': 1,\n",
       " 'be': 1,\n",
       " 'used': 1,\n",
       " 'to': 1,\n",
       " 'demonstrate': 1,\n",
       " 'the': 1,\n",
       " 'word': 1,\n",
       " 'counter.': 1}"
      ]
     },
     "execution_count": 2,
     "metadata": {},
     "output_type": "execute_result"
    }
   ],
   "source": [
    "input_text = \"This is a sample text. This text will be used to demonstrate the word counter.\"\n",
    "word_count(input_text)"
   ]
  },
  {
   "cell_type": "markdown",
   "id": "85ec2d30-ff74-4d02-832b-1fe645c2393c",
   "metadata": {
    "tags": []
   },
   "source": [
    "# Exercise 5: Check for Palindrome\n",
    "* Write a Python function called is_palindrome that takes a string as input and returns True if the string is a palindrome, and False otherwise. A palindrome is a word, phrase, number, or other sequence of characters that reads the same forward and backward, ignoring spaces, punctuation, and capitalization.\n",
    "* Example:\n",
    "* Input: \"racecar\"\n",
    "* Expected Output: True\n"
   ]
  },
  {
   "cell_type": "code",
   "execution_count": 25,
   "id": "8e84c373-a4c7-4e72-a6c3-1aefc9a4e731",
   "metadata": {},
   "outputs": [],
   "source": [
    "def revers_strng(input_str:str):\n",
    "    for i in range(len(input_str)):\n",
    "        i+=1\n",
    "        print(input_str[-i],end='')"
   ]
  },
  {
   "cell_type": "code",
   "execution_count": 23,
   "id": "66f5132b-c1fe-46d7-ab5a-0195f558f704",
   "metadata": {},
   "outputs": [
    {
     "data": {
      "text/plain": [
       "'gnirts'"
      ]
     },
     "execution_count": 23,
     "metadata": {},
     "output_type": "execute_result"
    }
   ],
   "source": [
    "a = 'string'\n",
    "a[::-1]"
   ]
  },
  {
   "cell_type": "code",
   "execution_count": 76,
   "id": "e9fe5188-9cf3-4d81-9704-daf13243fc4e",
   "metadata": {},
   "outputs": [],
   "source": [
    "def is_palindrome():\n",
    "    input_str = str(input('enter any string to check palindrome :'))\n",
    "    input_str=input_str.lower().replace(' ','').replace(',','').replace(\"'\",\"\").replace('!','').replace('?','').replace('.','')\n",
    "    if input_str == input_str[::-1]:\n",
    "        return True\n",
    "    else :\n",
    "        return False"
   ]
  },
  {
   "cell_type": "code",
   "execution_count": 77,
   "id": "0092705d-9794-4060-ab16-bf941722fb00",
   "metadata": {},
   "outputs": [
    {
     "name": "stdin",
     "output_type": "stream",
     "text": [
      "enter any string to check palindrome : A man, a plan, a canal, Panama\n"
     ]
    },
    {
     "data": {
      "text/plain": [
       "True"
      ]
     },
     "execution_count": 77,
     "metadata": {},
     "output_type": "execute_result"
    }
   ],
   "source": [
    "is_palindrome()"
   ]
  },
  {
   "cell_type": "code",
   "execution_count": null,
   "id": "de131753-8d19-487e-8898-df8a8fa1a40c",
   "metadata": {},
   "outputs": [],
   "source": []
  }
 ],
 "metadata": {
  "kernelspec": {
   "display_name": "Python 3 (ipykernel)",
   "language": "python",
   "name": "python3"
  },
  "language_info": {
   "codemirror_mode": {
    "name": "ipython",
    "version": 3
   },
   "file_extension": ".py",
   "mimetype": "text/x-python",
   "name": "python",
   "nbconvert_exporter": "python",
   "pygments_lexer": "ipython3",
   "version": "3.11.5"
  }
 },
 "nbformat": 4,
 "nbformat_minor": 5
}

{
 "cells": [
  {
   "cell_type": "markdown",
   "id": "ac647072-05aa-41a8-855f-6478abdf0183",
   "metadata": {},
   "source": [
    "# Stating the Hypotheses statement:\n",
    "* null hypothesis = sample mean weekly operating cost is <= theoritical mean weekly operating cost of model\n",
    "* alternate hypothesis = sample mean weekly operating cost is > theoritical mean weekly operating cost of model\n",
    "* according to alternate hypothesis it is upper tail test\n",
    "* if my Z-statistic > critical Z-value(at alpha=0.05) i can reject null hypothesis with 95% confident"
   ]
  },
  {
   "cell_type": "raw",
   "id": "f2af5434-557d-480d-83b4-a6ac63c3e28c",
   "metadata": {},
   "source": [
    "Data given\n",
    "•\tˉxˉ = sample mean weekly cost (Rs. 3,050)\n",
    "•\tμ = theoretical mean weekly cost according to the cost model (W = $1,000 + $5X for X = 600 units) = 4000\n",
    "•\tσ = 5*25 units(population standard diveation) = 125\n",
    "•\tn = sample size (25 restaurants)"
   ]
  },
  {
   "cell_type": "markdown",
   "id": "20ce4935-411d-4d40-b8ba-9ca57711b00e",
   "metadata": {},
   "source": [
    "* as the sample size increases t-distribution approaches the z-distribution so even though we have population standard diveation we are calculating t-statistics"
   ]
  },
  {
   "cell_type": "code",
   "execution_count": 1,
   "id": "b0c15446-e442-42ae-9e78-56fc309747da",
   "metadata": {
    "tags": []
   },
   "outputs": [],
   "source": [
    "import numpy as np\n",
    "import scipy.stats as st"
   ]
  },
  {
   "cell_type": "code",
   "execution_count": 4,
   "id": "dc672700-a91d-4a8f-9423-0168ed1c0a6b",
   "metadata": {
    "tags": []
   },
   "outputs": [
    {
     "data": {
      "text/plain": [
       "-38.0"
      ]
     },
     "execution_count": 4,
     "metadata": {},
     "output_type": "execute_result"
    }
   ],
   "source": [
    "# calculating t-statistics\n",
    "t = (3050-4000)/(125/np.sqrt(25))\n",
    "t"
   ]
  },
  {
   "cell_type": "code",
   "execution_count": 6,
   "id": "ecd372e0-8e64-438f-97a1-8e7f0cbaebe1",
   "metadata": {
    "tags": []
   },
   "outputs": [
    {
     "data": {
      "text/plain": [
       "-1.6448536269514729"
      ]
     },
     "execution_count": 6,
     "metadata": {},
     "output_type": "execute_result"
    }
   ],
   "source": [
    "# calculating critical Z-value\n",
    "z = st.norm.ppf(0.05)\n",
    "z"
   ]
  },
  {
   "cell_type": "markdown",
   "id": "7f40a2f2-4c31-4d49-984c-7cdab8079068",
   "metadata": {
    "tags": []
   },
   "source": [
    "# comparing critical value with test statistic\n",
    "* here we can see as the t-statistic is far beyond z-value we can reject null hypothesis with 95% confident or even more"
   ]
  },
  {
   "cell_type": "markdown",
   "id": "164ad217-e880-4acf-b131-4668749cd3a1",
   "metadata": {},
   "source": [
    "# conclusion\n",
    "* there is strong evidence to support the restaurant owners' claim that the weekly operating costs are higher than the model suggests."
   ]
  }
 ],
 "metadata": {
  "kernelspec": {
   "display_name": "Python 3 (ipykernel)",
   "language": "python",
   "name": "python3"
  },
  "language_info": {
   "codemirror_mode": {
    "name": "ipython",
    "version": 3
   },
   "file_extension": ".py",
   "mimetype": "text/x-python",
   "name": "python",
   "nbconvert_exporter": "python",
   "pygments_lexer": "ipython3",
   "version": "3.11.5"
  }
 },
 "nbformat": 4,
 "nbformat_minor": 5
}
